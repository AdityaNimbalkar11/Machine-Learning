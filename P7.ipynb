{
  "nbformat": 4,
  "nbformat_minor": 0,
  "metadata": {
    "colab": {
      "provenance": [],
      "authorship_tag": "ABX9TyNEiCP1kvBHdHt4IGnO1Zgx",
      "include_colab_link": true
    },
    "kernelspec": {
      "name": "python3",
      "display_name": "Python 3"
    },
    "language_info": {
      "name": "python"
    }
  },
  "cells": [
    {
      "cell_type": "markdown",
      "metadata": {
        "id": "view-in-github",
        "colab_type": "text"
      },
      "source": [
        "<a href=\"https://colab.research.google.com/github/AdityaNimbalkar11/Machine-Learning/blob/main/P7.ipynb\" target=\"_parent\"><img src=\"https://colab.research.google.com/assets/colab-badge.svg\" alt=\"Open In Colab\"/></a>"
      ]
    },
    {
      "cell_type": "code",
      "source": [
        "import pandas as pd\n",
        "from sklearn.model_selection import train_test_split\n",
        "from sklearn.ensemble import RandomForestClassifier, AdaBoostClassifier, GradientBoostingClassifier\n",
        "from xgboost import XGBClassifier\n",
        "from sklearn.metrics import accuracy_score"
      ],
      "metadata": {
        "id": "Jn_42Q6epHrG"
      },
      "execution_count": 50,
      "outputs": []
    },
    {
      "cell_type": "code",
      "source": [
        "data = pd.read_csv('/content/diabetes.csv')\n",
        "\n",
        "X = data.drop('Outcome', axis=1)  # Features\n",
        "y = data['Outcome']  # Target variable"
      ],
      "metadata": {
        "id": "gCIzc1xDoUM2"
      },
      "execution_count": 51,
      "outputs": []
    },
    {
      "cell_type": "code",
      "source": [
        "X_train, X_test, y_train, y_test = train_test_split(X, y, test_size=0.2, random_state=12)"
      ],
      "metadata": {
        "id": "2JUbX4hMoU19"
      },
      "execution_count": 52,
      "outputs": []
    },
    {
      "cell_type": "code",
      "source": [
        "\n",
        "rf_classifier = RandomForestClassifier(n_estimators=50, random_state=12)\n",
        "rf_classifier.fit(X_train, y_train)\n",
        "rf_predictions = rf_classifier.predict(X_test)"
      ],
      "metadata": {
        "id": "dZ9MmXnOoU0-"
      },
      "execution_count": 53,
      "outputs": []
    },
    {
      "cell_type": "code",
      "source": [
        "gb_classifier = GradientBoostingClassifier(n_estimators=50, random_state=12)\n",
        "gb_classifier.fit(X_train, y_train)\n",
        "gb_predictions = gb_classifier.predict(X_test)"
      ],
      "metadata": {
        "id": "hmIeZtFBt7_G"
      },
      "execution_count": 54,
      "outputs": []
    },
    {
      "cell_type": "code",
      "source": [
        "\n",
        "ada_classifier = AdaBoostClassifier(n_estimators=50, random_state=12)\n",
        "ada_classifier.fit(X_train, y_train)\n",
        "ada_predictions = ada_classifier.predict(X_test)"
      ],
      "metadata": {
        "id": "KJVQno5noVNY"
      },
      "execution_count": 55,
      "outputs": []
    },
    {
      "cell_type": "code",
      "source": [
        "xgb_classifier = XGBClassifier(n_estimators=50, random_state=12)\n",
        "xgb_classifier.fit(X_train, y_train)\n",
        "xgb_predictions = xgb_classifier.predict(X_test)"
      ],
      "metadata": {
        "id": "4AYTPz70oVy_"
      },
      "execution_count": 56,
      "outputs": []
    },
    {
      "cell_type": "code",
      "source": [
        "rf_accuracy = accuracy_score(y_test, rf_predictions)\n",
        "ada_accuracy = accuracy_score(y_test, ada_predictions)\n",
        "gb_accuracy = accuracy_score(y_test, gb_predictions)\n",
        "xgb_accuracy = accuracy_score(y_test, xgb_predictions)"
      ],
      "metadata": {
        "id": "G-evCYj2ok2Z"
      },
      "execution_count": 57,
      "outputs": []
    },
    {
      "cell_type": "code",
      "source": [
        "\n",
        "print(\"Random Forest Accuracy:\", rf_accuracy)\n",
        "print(\"AdaBoost Accuracy:\", ada_accuracy)\n",
        "print(\"Gradient Boosting Accuracy:\", gb_accuracy)\n",
        "print(\"XGBoost Accuracy:\", xgb_accuracy)\n"
      ],
      "metadata": {
        "id": "pLR7_9gTot4R",
        "colab": {
          "base_uri": "https://localhost:8080/"
        },
        "outputId": "080af736-09b5-442a-c7e4-cc2a40d645a0"
      },
      "execution_count": 58,
      "outputs": [
        {
          "output_type": "stream",
          "name": "stdout",
          "text": [
            "Random Forest Accuracy: 0.7987012987012987\n",
            "AdaBoost Accuracy: 0.7922077922077922\n",
            "Gradient Boosting Accuracy: 0.8051948051948052\n",
            "XGBoost Accuracy: 0.7467532467532467\n"
          ]
        }
      ]
    },
    {
      "cell_type": "code",
      "source": [
        "import matplotlib.pyplot as plt\n",
        "import numpy as np\n",
        "\n",
        "models = ['Random Forest', 'AdaBoost', 'Gradient Boosting', 'XGBoost']\n",
        "accuracies = [rf_accuracy, ada_accuracy, gb_accuracy, xgb_accuracy]\n",
        "\n",
        "plt.figure(figsize=(10, 6))\n",
        "plt.bar(models, accuracies, color=['red', 'orange', 'pink', 'yellow'])\n",
        "plt.title('Model Accuracy Comparison')\n",
        "plt.xlabel('Model')\n",
        "plt.ylabel('Accuracy')\n",
        "plt.ylim(0, 1)\n",
        "plt.show()"
      ],
      "metadata": {
        "colab": {
          "base_uri": "https://localhost:8080/",
          "height": 564
        },
        "id": "GycO-YeztFBY",
        "outputId": "95592c17-e215-4a2b-eee6-ab891f7577a2"
      },
      "execution_count": 61,
      "outputs": [
        {
          "output_type": "display_data",
          "data": {
            "text/plain": [
              "<Figure size 1000x600 with 1 Axes>"
            ],
            "image/png": "[encoded data removed]"
          },
          "metadata": {}
        }
      ]
    },
    {
      "cell_type": "code",
      "source": [
        "a=(rf_accuracy, ada_accuracy, gb_accuracy, xgb_accuracy)\n",
        "print(\"Thus The best Accuracy Suited Here Is: \",max(a))\n",
        "print(\"Thus The best alogrithm is: Gradient Boosting\")"
      ],
      "metadata": {
        "colab": {
          "base_uri": "https://localhost:8080/"
        },
        "id": "nGF1xD8-vAVd",
        "outputId": "f4a0087d-d6a2-4377-b7b1-a6a568198d97"
      },
      "execution_count": 64,
      "outputs": [
        {
          "output_type": "stream",
          "name": "stdout",
          "text": [
            "Thus The best Accuracy Suited Here Is:  0.8051948051948052\n",
            "Thus The best alogrithm is: Gradient Boosting\n"
          ]
        }
      ]
    },
    {
      "cell_type": "code",
      "source": [],
      "metadata": {
        "id": "6geEfEZyvnQo"
      },
      "execution_count": null,
      "outputs": []
    }
  ]
}